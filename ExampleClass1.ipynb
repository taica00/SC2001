{
 "cells": [
  {
   "cell_type": "markdown",
   "metadata": {},
   "source": [
    "Sorting algorithms"
   ]
  },
  {
   "cell_type": "code",
   "execution_count": 38,
   "metadata": {},
   "outputs": [],
   "source": [
    "def mergeSort(L, R):\n",
    "    if R-L == 0:\n",
    "        return\n",
    "    mid = (L+R)//2\n",
    "    mergeSort(L, mid)\n",
    "    mergeSort(mid+1, R)\n",
    "    merge(L, R)\n",
    "\n",
    "def mergeInsertSort(L, R, S):\n",
    "    if R-L < S:      #perform insertionSort when sublist is within threshold\n",
    "        insertionSort(L, R)\n",
    "        return\n",
    "    mid = (L+R)//2\n",
    "    mergeInsertSort(L, mid, S)\n",
    "    mergeInsertSort(mid+1, R, S)\n",
    "    merge(L, R)\n",
    "\n",
    "def merge(L, R):\n",
    "    mid = (L+R)//2\n",
    "    arr1 = arr[L:mid+1]\n",
    "    arr2 = arr[mid+1:R+1]\n",
    "    x = y = 0\n",
    "    while (x < len(arr1) and y < len(arr2)):\n",
    "        global comparisons\n",
    "        comparisons += 1\n",
    "        if arr1[x] > arr2[y]:\n",
    "            arr[L] = arr2[y]\n",
    "            y += 1\n",
    "        else:\n",
    "            arr[L] = arr1[x]\n",
    "            x += 1\n",
    "        L += 1\n",
    "    while (x < len(arr1)):  #right sublist is empty\n",
    "        arr[L] = arr1[x]\n",
    "        L += 1\n",
    "        x += 1\n",
    "    while (y < len(arr2)):  #left sublist is empty\n",
    "        arr[L] = arr2[y]\n",
    "        L += 1\n",
    "        y += 1        \n",
    "\n",
    "def insertionSort(start, end):\n",
    "    for i in range(start+1, end+1):\n",
    "        for j in range(i, start, -1):\n",
    "            global comparisons\n",
    "            comparisons += 1\n",
    "            if arr[j] < arr[j-1]:\n",
    "                arr[j], arr[j-1] = arr[j-1], arr[j]\n",
    "            else:\n",
    "                break"
   ]
  },
  {
   "cell_type": "code",
   "execution_count": 39,
   "metadata": {},
   "outputs": [],
   "source": [
    "def keyComparisons():\n",
    "    global comparisons\n",
    "    print(\"Key comparisons for array of size\", len(arr), \"and S value of\", S, \":\", comparisons)\n",
    "    comparisons = 0"
   ]
  },
  {
   "cell_type": "markdown",
   "metadata": {},
   "source": [
    "Generate input data"
   ]
  },
  {
   "cell_type": "code",
   "execution_count": 40,
   "metadata": {},
   "outputs": [],
   "source": [
    "import random\n",
    "\n",
    "all_arr = [[], [], [], [], []]\n",
    "i, n = 0, 1000\n",
    "while (n <= 10000000):\n",
    "    for y in range(n):\n",
    "        all_arr[i].append(random.randint(1, 100000))\n",
    "    i += 1\n",
    "    n *= 10"
   ]
  },
  {
   "cell_type": "markdown",
   "metadata": {},
   "source": [
    "Value of S fixed at 10"
   ]
  },
  {
   "cell_type": "code",
   "execution_count": 41,
   "metadata": {},
   "outputs": [
    {
     "name": "stdout",
     "output_type": "stream",
     "text": [
      "Key comparisons for array of size 1000 and S value of 10 : 9195\n",
      "Key comparisons for array of size 10000 and S value of 10 : 127319\n",
      "Key comparisons for array of size 100000 and S value of 10 : 1557709\n",
      "Key comparisons for array of size 1000000 and S value of 10 : 19073488\n",
      "Key comparisons for array of size 10000000 and S value of 10 : 226420236\n"
     ]
    }
   ],
   "source": [
    "S = 10\n",
    "comparisons = 0\n",
    "for arr_ in all_arr:\n",
    "    arr = arr_[::]\n",
    "    mergeInsertSort(0, len(arr)-1, S)\n",
    "    keyComparisons()\n"
   ]
  },
  {
   "cell_type": "markdown",
   "metadata": {},
   "source": [
    "Input size n fixed at 100000"
   ]
  },
  {
   "cell_type": "code",
   "execution_count": 46,
   "metadata": {},
   "outputs": [
    {
     "name": "stdout",
     "output_type": "stream",
     "text": [
      "Key comparisons for array of size 1000000 and S value of 3 : 1536169\n",
      "Key comparisons for array of size 1000000 and S value of 5 : 1536576\n",
      "Key comparisons for array of size 1000000 and S value of 7 : 1557407\n",
      "Key comparisons for array of size 1000000 and S value of 9 : 1557407\n",
      "Key comparisons for array of size 1000000 and S value of 11 : 1557407\n",
      "Key comparisons for array of size 1000000 and S value of 13 : 1638753\n",
      "Key comparisons for array of size 1000000 and S value of 15 : 1638753\n",
      "Key comparisons for array of size 1000000 and S value of 17 : 1638753\n",
      "Key comparisons for array of size 1000000 and S value of 19 : 1638753\n"
     ]
    }
   ],
   "source": [
    "for S in range (3, 20, 2):\n",
    "    arr = all_arr[3][::]\n",
    "    mergeInsertSort(0, 100000, S)\n",
    "    keyComparisons()"
   ]
  },
  {
   "cell_type": "markdown",
   "metadata": {},
   "source": [
    "Compare with original Mergesort"
   ]
  },
  {
   "cell_type": "code",
   "execution_count": 47,
   "metadata": {},
   "outputs": [
    {
     "name": "stdout",
     "output_type": "stream",
     "text": [
      "Hybrid algorithm:\n",
      "Key comparisons for array of size 10000000 and S value of 3 : 220097339\n",
      "Mergesort algorithm:\n",
      "Key comparisons for array of size 10000000 and S value of 3 : 220099485\n"
     ]
    }
   ],
   "source": [
    "S = 3\n",
    "arr = all_arr[4][::]\n",
    "mergeInsertSort(0, 9999999, S)\n",
    "print(\"Hybrid algorithm:\")\n",
    "keyComparisons()\n",
    "arr = all_arr[4][::]\n",
    "mergeSort(0, 9999999)\n",
    "print(\"Mergesort algorithm:\")\n",
    "keyComparisons()"
   ]
  }
 ],
 "metadata": {
  "kernelspec": {
   "display_name": "Python 3.9.6 64-bit",
   "language": "python",
   "name": "python3"
  },
  "language_info": {
   "codemirror_mode": {
    "name": "ipython",
    "version": 3
   },
   "file_extension": ".py",
   "mimetype": "text/x-python",
   "name": "python",
   "nbconvert_exporter": "python",
   "pygments_lexer": "ipython3",
   "version": "3.9.6"
  },
  "orig_nbformat": 4,
  "vscode": {
   "interpreter": {
    "hash": "ce4c06a57b83a2aeadb1e27a2b962b1cb087797963f942ee1af4e876b63b4e61"
   }
  }
 },
 "nbformat": 4,
 "nbformat_minor": 2
}
