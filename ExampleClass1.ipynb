{
 "cells": [
  {
   "cell_type": "markdown",
   "metadata": {},
   "source": [
    "# Sorting algorithms"
   ]
  },
  {
   "cell_type": "code",
   "execution_count": 7,
   "metadata": {},
   "outputs": [],
   "source": [
    "def mergeSort(L, R):\n",
    "    if R-L == 0:\n",
    "        return\n",
    "    mid = (L+R)//2\n",
    "    mergeSort(L, mid)\n",
    "    mergeSort(mid+1, R)\n",
    "    merge(L, R)\n",
    "\n",
    "def mergeInsertSort(L, R):\n",
    "    if R-L < S:      #perform insertionSort when sublist is within threshold\n",
    "        insertionSort(L, R)\n",
    "        return\n",
    "    mid = (L+R)//2\n",
    "    mergeInsertSort(L, mid)\n",
    "    mergeInsertSort(mid+1, R)\n",
    "    merge(L, R)\n",
    "\n",
    "def merge(L, R):\n",
    "    mid = (L+R)//2\n",
    "    arr1 = arr[L:mid+1]\n",
    "    arr2 = arr[mid+1:R+1]\n",
    "    x = y = 0\n",
    "    while (x < len(arr1) and y < len(arr2)):\n",
    "        global comparisons\n",
    "        comparisons += 1\n",
    "        if arr1[x] > arr2[y]:\n",
    "            arr[L] = arr2[y]\n",
    "            y += 1\n",
    "        else:\n",
    "            arr[L] = arr1[x]\n",
    "            x += 1\n",
    "        L += 1\n",
    "    while (x < len(arr1)):  #right sublist is empty\n",
    "        arr[L] = arr1[x]\n",
    "        L += 1\n",
    "        x += 1\n",
    "    while (y < len(arr2)):  #left sublist is empty\n",
    "        arr[L] = arr2[y]\n",
    "        L += 1\n",
    "        y += 1        \n",
    "\n",
    "def insertionSort(start, end):\n",
    "    for i in range(start+1, end+1):\n",
    "        for j in range(i, start, -1):\n",
    "            global comparisons\n",
    "            comparisons += 1\n",
    "            if arr[j] < arr[j-1]:\n",
    "                arr[j], arr[j-1] = arr[j-1], arr[j]\n",
    "            else:\n",
    "                break"
   ]
  },
  {
   "cell_type": "code",
   "execution_count": 2,
   "metadata": {},
   "outputs": [],
   "source": [
    "def keyComparisons():\n",
    "    global comparisons\n",
    "    print(\"Key comparisons for array of size\", len(arr), \"and S value of\", S, \":\", comparisons)\n",
    "    comparisons = 0"
   ]
  },
  {
   "cell_type": "markdown",
   "metadata": {},
   "source": [
    "# Generate input data"
   ]
  },
  {
   "cell_type": "code",
   "execution_count": 3,
   "metadata": {},
   "outputs": [],
   "source": [
    "import random\n",
    "\n",
    "all_arr = [[], [], [], [], []]\n",
    "i, n = 0, 1000\n",
    "while (n <= 10000000):\n",
    "    for y in range(n):\n",
    "        all_arr[i].append(random.randint(1, 100000))\n",
    "    i += 1\n",
    "    n *= 10"
   ]
  },
  {
   "cell_type": "markdown",
   "metadata": {},
   "source": [
    "# Analyze time complexity"
   ]
  },
  {
   "cell_type": "markdown",
   "metadata": {},
   "source": [
    "### Value of S fixed at 10"
   ]
  },
  {
   "cell_type": "code",
   "execution_count": 4,
   "metadata": {},
   "outputs": [
    {
     "name": "stdout",
     "output_type": "stream",
     "text": [
      "Key comparisons for array of size 1000 and S value of 10 : 9054\n",
      "Key comparisons for array of size 10000 and S value of 10 : 126820\n",
      "Key comparisons for array of size 100000 and S value of 10 : 1557333\n",
      "Key comparisons for array of size 1000000 and S value of 10 : 19071401\n",
      "Key comparisons for array of size 10000000 and S value of 10 : 226416083\n"
     ]
    }
   ],
   "source": [
    "S = 10\n",
    "comparisons = 0\n",
    "for arr_ in all_arr:\n",
    "    arr = arr_[::]\n",
    "    mergeInsertSort(0, len(arr)-1)\n",
    "    keyComparisons()\n",
    "\n"
   ]
  },
  {
   "cell_type": "markdown",
   "metadata": {},
   "source": [
    "### Input size n fixed at 100000"
   ]
  },
  {
   "cell_type": "code",
   "execution_count": 8,
   "metadata": {},
   "outputs": [
    {
     "name": "stdout",
     "output_type": "stream",
     "text": [
      "Key comparisons for array of size 100000 and S value of 3 : 1536046\n",
      "Key comparisons for array of size 100000 and S value of 6 : 1554133\n",
      "Key comparisons for array of size 100000 and S value of 9 : 1557333\n",
      "Key comparisons for array of size 100000 and S value of 12 : 1619078\n",
      "Key comparisons for array of size 100000 and S value of 15 : 1638975\n",
      "Key comparisons for array of size 100000 and S value of 18 : 1638975\n",
      "Key comparisons for array of size 100000 and S value of 21 : 1638975\n",
      "Key comparisons for array of size 100000 and S value of 24 : 1763870\n",
      "Key comparisons for array of size 100000 and S value of 27 : 1861641\n"
     ]
    }
   ],
   "source": [
    "comparisons = 0\n",
    "for S in range (3, 30, 3):\n",
    "    arr = all_arr[2][::]\n",
    "    mergeInsertSort(0, 99999)\n",
    "    keyComparisons()\n",
    "  "
   ]
  },
  {
   "cell_type": "markdown",
   "metadata": {},
   "source": [
    "### TO-DO: Using different sizes of input datasets, determine an optimal value of S for the best performance of the hybrid algorithm"
   ]
  },
  {
   "cell_type": "markdown",
   "metadata": {},
   "source": [
    "# Compare with original Mergesort"
   ]
  },
  {
   "cell_type": "code",
   "execution_count": 10,
   "metadata": {},
   "outputs": [
    {
     "name": "stdout",
     "output_type": "stream",
     "text": [
      "Hybrid algorithm:\n",
      "Key comparisons for array of size 10000000 and S value of 3 : 220102051\n",
      "Time taken: 110.71875 seconds\n",
      "Mergesort algorithm:\n",
      "Key comparisons for array of size 10000000 and S value of 3 : 220102204\n",
      "Time taken: 130.609375 seconds\n"
     ]
    }
   ],
   "source": [
    "import time\n",
    "\n",
    "S = 3\n",
    "comparisons = 0\n",
    "arr = all_arr[4][::]\n",
    "start_time = time.process_time()\n",
    "mergeInsertSort(0, 9999999)\n",
    "time_taken = time.process_time() - start_time\n",
    "print(\"Hybrid algorithm:\")\n",
    "keyComparisons()\n",
    "print(\"Time taken:\", time_taken, \"seconds\")\n",
    "arr = all_arr[4][::]\n",
    "start_time = time.process_time()\n",
    "mergeSort(0, 9999999)\n",
    "time_taken = time.process_time() - start_time\n",
    "print(\"Mergesort algorithm:\")\n",
    "keyComparisons()\n",
    "print(\"Time taken:\", time_taken, \"seconds\")"
   ]
  }
 ],
 "metadata": {
  "kernelspec": {
   "display_name": "Python 3.10.4 64-bit",
   "language": "python",
   "name": "python3"
  },
  "language_info": {
   "codemirror_mode": {
    "name": "ipython",
    "version": 3
   },
   "file_extension": ".py",
   "mimetype": "text/x-python",
   "name": "python",
   "nbconvert_exporter": "python",
   "pygments_lexer": "ipython3",
   "version": "3.10.4"
  },
  "orig_nbformat": 4,
  "vscode": {
   "interpreter": {
    "hash": "82fb4c7782643e693485e9f28b8c5dff25f39ded5d7d24410033a7bafa02880b"
   }
  }
 },
 "nbformat": 4,
 "nbformat_minor": 2
}
